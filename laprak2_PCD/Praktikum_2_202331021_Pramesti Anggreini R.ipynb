{
 "cells": [
  {
   "cell_type": "markdown",
   "id": "1d5c408e-ce50-4f70-adc0-8b14d6d95bdd",
   "metadata": {},
   "source": [
    "## Import Library"
   ]
  },
  {
   "cell_type": "code",
   "execution_count": 2,
   "id": "3bba90eb-b60e-460b-a961-2ebdb00a0e56",
   "metadata": {},
   "outputs": [],
   "source": [
    "#202331021_Pramesti Anggreini Romadona\n",
    "import cv2\n",
    "import numpy as np"
   ]
  },
  {
   "cell_type": "markdown",
   "id": "1aba783a-9d89-4731-8e11-3038a5d59385",
   "metadata": {},
   "source": [
    "## Membaca Citra"
   ]
  },
  {
   "cell_type": "code",
   "execution_count": 5,
   "id": "be34f9c5-4da9-47ce-9c68-a6d7063174b7",
   "metadata": {},
   "outputs": [],
   "source": [
    "#202331021_Pramesti Anggreini Romadona\n",
    "citra = cv2.imread('bird.jpg')"
   ]
  },
  {
   "cell_type": "code",
   "execution_count": 30,
   "id": "7cb3cbd8-e01e-4bc1-8c05-299bbad901a1",
   "metadata": {},
   "outputs": [],
   "source": [
    "#202331021_Pramesti Anggreini Romadona\n",
    "cv2.imshow(\"Citra asli\", citra)\n",
    "cv2.waitKey()\n",
    "cv2.destroyAllWindows()"
   ]
  },
  {
   "cell_type": "markdown",
   "id": "132668a1-db08-457f-a192-578af1442bad",
   "metadata": {},
   "source": [
    "## Dimensi Citra"
   ]
  },
  {
   "cell_type": "code",
   "execution_count": 9,
   "id": "b0ae2d5f-ad0e-4ea0-b404-d7859cf4a28e",
   "metadata": {},
   "outputs": [
    {
     "name": "stdout",
     "output_type": "stream",
     "text": [
      "(1024, 1024, 3)\n",
      "uint8\n"
     ]
    }
   ],
   "source": [
    "#202331021_Pramesti Anggreini Romadona\n",
    "print(citra.shape)\n",
    "print(citra.dtype)"
   ]
  },
  {
   "cell_type": "markdown",
   "id": "60853b7e-11fb-4c6a-ac58-a85a932014bf",
   "metadata": {},
   "source": [
    "## splitting Citra RGB/BGR"
   ]
  },
  {
   "cell_type": "code",
   "execution_count": 32,
   "id": "db55a0db-aa90-4234-9dbc-5ff63713f20f",
   "metadata": {},
   "outputs": [],
   "source": [
    "#202331021_Pramesti Anggreini Romadona\n",
    "b = citra[:,:,0]\n",
    "g = citra[:,:,1]\n",
    "r = citra[:,:,2]"
   ]
  },
  {
   "cell_type": "markdown",
   "id": "db629db5-0940-4067-b5b5-d7b442fe460c",
   "metadata": {},
   "source": [
    "## RGB to Grayscale"
   ]
  },
  {
   "cell_type": "code",
   "execution_count": 57,
   "id": "c380c032-aa9f-4790-9fd1-b9f11b1f0171",
   "metadata": {},
   "outputs": [],
   "source": [
    "#202331021_Pramesti Anggreini Romadona\n",
    "panjang = len(citra) #menghitung baris\n",
    "lebar = len(citra[0]) #menghitung kolom \n",
    "\n",
    "citra_gray = np.zeros((panjang,lebar))\n",
    "\n",
    "for i in range (panjang):\n",
    "    for j in range (lebar):\n",
    "        citra_gray[i,j] = 0.2989 * r[i,j] + 0.587 * g[i,j] + 0.1141 * b[i,j] #merah= 29,89% ; hijau = 58,7% ; biru = 11,41%\n",
    "\n",
    "citra_gray = citra_gray.astype(np.uint8)\n",
    "\n",
    "cv2.imshow(\"citra grayscale\", citra_gray)\n",
    "cv2.waitKey()\n",
    "cv2.destroyAllWindows()"
   ]
  },
  {
   "cell_type": "code",
   "execution_count": 35,
   "id": "62af99f6-eef9-43b0-b864-ca2980e2534d",
   "metadata": {},
   "outputs": [
    {
     "name": "stdout",
     "output_type": "stream",
     "text": [
      "[[[ 29  35  16]\n",
      "  [ 33  42  22]\n",
      "  [ 36  47  31]\n",
      "  ...\n",
      "  [ 79 224 245]\n",
      "  [ 76 222 244]\n",
      "  [ 75 221 243]]\n",
      "\n",
      " [[ 22  28   9]\n",
      "  [ 23  32  12]\n",
      "  [ 23  34  18]\n",
      "  ...\n",
      "  [ 75 220 241]\n",
      "  [ 73 219 241]\n",
      "  [ 71 217 239]]\n",
      "\n",
      " [[ 23  27   8]\n",
      "  [ 20  26   7]\n",
      "  [ 15  26  10]\n",
      "  ...\n",
      "  [ 74 221 241]\n",
      "  [ 72 218 240]\n",
      "  [ 71 217 239]]\n",
      "\n",
      " ...\n",
      "\n",
      " [[ 18  30  10]\n",
      "  [  6  18   0]\n",
      "  [  4  16   0]\n",
      "  ...\n",
      "  [ 11  22   6]\n",
      "  [  8  19   3]\n",
      "  [  9  20   4]]\n",
      "\n",
      " [[ 24  40  17]\n",
      "  [ 13  29   6]\n",
      "  [ 14  26   6]\n",
      "  ...\n",
      "  [ 31  44  28]\n",
      "  [ 26  39  23]\n",
      "  [ 26  40  22]]\n",
      "\n",
      " [[ 42  58  35]\n",
      "  [ 54  70  47]\n",
      "  [ 44  56  36]\n",
      "  ...\n",
      "  [ 36  52  35]\n",
      "  [ 30  46  28]\n",
      "  [ 27  43  25]]]\n"
     ]
    }
   ],
   "source": [
    "#202331021_Pramesti Anggreini Romadona\n",
    "print(citra)"
   ]
  },
  {
   "cell_type": "markdown",
   "id": "1fff7a87-250b-4f06-94d5-2c56dcc728a1",
   "metadata": {},
   "source": [
    "## Grayscale to Binary"
   ]
  },
  {
   "cell_type": "code",
   "execution_count": 61,
   "id": "e5d2904f-ef2b-45c4-a0b2-7e08248da5b3",
   "metadata": {},
   "outputs": [],
   "source": [
    "#202331021_Pramesti Anggreini Romadona\n",
    "panjang = len(citra) #menghitung baris\n",
    "lebar = len(citra[0]) #menghitung kolom\n",
    "\n",
    "ambang = 20\n",
    "\n",
    "citra_biner = np.zeros((panjang,lebar))\n",
    "\n",
    "for i in range (panjang):\n",
    "    for j in range (lebar):\n",
    "        if citra_gray[i,j] >= ambang:\n",
    "            citra_biner[i,j] = 1\n",
    "        else :\n",
    "            citra_biner[i,j] = 0\n",
    "\n",
    "cv2.imshow(\"citra binary\", citra_biner)\n",
    "cv2.waitKey()\n",
    "cv2.destroyAllWindows()"
   ]
  },
  {
   "cell_type": "code",
   "execution_count": 38,
   "id": "10522632-2eca-4ffb-b5d8-f54ee6d74d6c",
   "metadata": {},
   "outputs": [
    {
     "name": "stdout",
     "output_type": "stream",
     "text": [
      "[[ 28  34  40 ... 213 211 210]\n",
      " [ 21  24  27 ... 209 208 206]\n",
      " [ 20  19  19 ... 210 207 206]\n",
      " ...\n",
      " [ 22  11   9 ...  15  12  13]\n",
      " [ 31  20  18 ...  37  32  33]\n",
      " [ 49  61  48 ...  45  38  35]]\n"
     ]
    }
   ],
   "source": [
    "#202331021_Pramesti Anggreini Romadona\n",
    "print(citra_gray)"
   ]
  },
  {
   "cell_type": "code",
   "execution_count": 39,
   "id": "ad3d91d5-5057-40c3-93ef-70376e1a9c35",
   "metadata": {},
   "outputs": [
    {
     "name": "stdout",
     "output_type": "stream",
     "text": [
      "[[1. 1. 1. ... 1. 1. 1.]\n",
      " [1. 1. 1. ... 1. 1. 1.]\n",
      " [1. 0. 0. ... 1. 1. 1.]\n",
      " ...\n",
      " [1. 0. 0. ... 0. 0. 0.]\n",
      " [1. 1. 0. ... 1. 1. 1.]\n",
      " [1. 1. 1. ... 1. 1. 1.]]\n"
     ]
    }
   ],
   "source": [
    "#202331021_Pramesti Anggreini Romadona\n",
    "print(citra_biner)"
   ]
  },
  {
   "cell_type": "code",
   "execution_count": 49,
   "id": "8fd41b2a-0000-49a4-9af5-3c2490761606",
   "metadata": {},
   "outputs": [
    {
     "name": "stdout",
     "output_type": "stream",
     "text": [
      "1.0\n"
     ]
    }
   ],
   "source": [
    "#202331021_Pramesti Anggreini Romadona\n",
    "print(citra_biner[50,50])"
   ]
  }
 ],
 "metadata": {
  "kernelspec": {
   "display_name": "Python 3 (ipykernel)",
   "language": "python",
   "name": "python3"
  },
  "language_info": {
   "codemirror_mode": {
    "name": "ipython",
    "version": 3
   },
   "file_extension": ".py",
   "mimetype": "text/x-python",
   "name": "python",
   "nbconvert_exporter": "python",
   "pygments_lexer": "ipython3",
   "version": "3.12.7"
  }
 },
 "nbformat": 4,
 "nbformat_minor": 5
}
